{
 "cells": [
  {
   "cell_type": "code",
   "execution_count": 2,
   "metadata": {
    "collapsed": false
   },
   "outputs": [],
   "source": [
    "%matplotlib inline\n",
    "import numpy as np # linear algebra\n",
    "import pandas as pd # data processing, CSV file I/O (e.g. pd.read_csv)\n",
    "import io\n",
    "\n",
    "# Input data files are available in the \"../input/\" directory.\n",
    "# For example, running this (by clicking run or pressing Shift+Enter) will list the files in the input directory\n",
    "\n",
    "# load files\n",
    "training_data = pd.read_csv(r\"C:\\Users\\Brandon\\Desktop\\Home_Depot_Data\\train.csv\", encoding=\"ISO-8859-1\")\n",
    "testing_data = pd.read_csv(r\"C:\\Users\\Brandon\\Desktop\\Home_Depot_Data\\test.csv\", encoding=\"ISO-8859-1\")\n",
    "attributes_data = pd.read_csv(r\"C:\\Users\\Brandon\\Desktop\\Home_Depot_Data\\attributes.csv\")\n",
    "descriptions_data = pd.read_csv(r\"C:\\Users\\Brandon\\Desktop\\Home_Depot_Data\\product_descriptions.csv\")\n"
   ]
  },
  {
   "cell_type": "code",
   "execution_count": 3,
   "metadata": {
    "collapsed": false
   },
   "outputs": [
    {
     "data": {
      "text/html": [
       "<div>\n",
       "<table border=\"1\" class=\"dataframe\">\n",
       "  <thead>\n",
       "    <tr style=\"text-align: right;\">\n",
       "      <th></th>\n",
       "      <th>id</th>\n",
       "      <th>product_uid</th>\n",
       "      <th>product_title</th>\n",
       "      <th>search_term</th>\n",
       "      <th>relevance</th>\n",
       "    </tr>\n",
       "  </thead>\n",
       "  <tbody>\n",
       "    <tr>\n",
       "      <th>0</th>\n",
       "      <td>2</td>\n",
       "      <td>100001</td>\n",
       "      <td>Simpson Strong-Tie 12-Gauge Angle</td>\n",
       "      <td>angle bracket</td>\n",
       "      <td>3.00</td>\n",
       "    </tr>\n",
       "    <tr>\n",
       "      <th>1</th>\n",
       "      <td>3</td>\n",
       "      <td>100001</td>\n",
       "      <td>Simpson Strong-Tie 12-Gauge Angle</td>\n",
       "      <td>l bracket</td>\n",
       "      <td>2.50</td>\n",
       "    </tr>\n",
       "    <tr>\n",
       "      <th>2</th>\n",
       "      <td>9</td>\n",
       "      <td>100002</td>\n",
       "      <td>BEHR Premium Textured DeckOver 1-gal. #SC-141 ...</td>\n",
       "      <td>deck over</td>\n",
       "      <td>3.00</td>\n",
       "    </tr>\n",
       "    <tr>\n",
       "      <th>3</th>\n",
       "      <td>16</td>\n",
       "      <td>100005</td>\n",
       "      <td>Delta Vero 1-Handle Shower Only Faucet Trim Ki...</td>\n",
       "      <td>rain shower head</td>\n",
       "      <td>2.33</td>\n",
       "    </tr>\n",
       "    <tr>\n",
       "      <th>4</th>\n",
       "      <td>17</td>\n",
       "      <td>100005</td>\n",
       "      <td>Delta Vero 1-Handle Shower Only Faucet Trim Ki...</td>\n",
       "      <td>shower only faucet</td>\n",
       "      <td>2.67</td>\n",
       "    </tr>\n",
       "  </tbody>\n",
       "</table>\n",
       "</div>"
      ],
      "text/plain": [
       "   id  product_uid                                      product_title  \\\n",
       "0   2       100001                  Simpson Strong-Tie 12-Gauge Angle   \n",
       "1   3       100001                  Simpson Strong-Tie 12-Gauge Angle   \n",
       "2   9       100002  BEHR Premium Textured DeckOver 1-gal. #SC-141 ...   \n",
       "3  16       100005  Delta Vero 1-Handle Shower Only Faucet Trim Ki...   \n",
       "4  17       100005  Delta Vero 1-Handle Shower Only Faucet Trim Ki...   \n",
       "\n",
       "          search_term  relevance  \n",
       "0       angle bracket       3.00  \n",
       "1           l bracket       2.50  \n",
       "2           deck over       3.00  \n",
       "3    rain shower head       2.33  \n",
       "4  shower only faucet       2.67  "
      ]
     },
     "execution_count": 3,
     "metadata": {},
     "output_type": "execute_result"
    }
   ],
   "source": [
    "# This is how training_data looks like\n",
    "training_data.head()"
   ]
  },
  {
   "cell_type": "code",
   "execution_count": 4,
   "metadata": {
    "collapsed": false
   },
   "outputs": [],
   "source": [
    "# merge descriptions\n",
    "training_data = pd.merge(training_data, descriptions_data, on=\"product_uid\", how=\"left\")\n",
    "\n",
    "# merge product counts\n",
    "product_counts = pd.DataFrame(pd.Series(training_data.groupby([\"product_uid\"]).size(), name=\"product_count\"))\n",
    "training_data = pd.merge(training_data, product_counts, left_on=\"product_uid\", right_index=True, how=\"left\")\n",
    "\n",
    "# merge brand names\n",
    "brand_name = attributes_data[attributes_data.name == \"MFG Brand Name\"][[\"product_uid\", \"value\"]].rename(columns={\"value\": \"brand_name\"})\n",
    "training_data = pd.merge(training_data, brand_name, on=\"product_uid\", how=\"left\")\n",
    "training_data.brand_name.fillna(\"Unknown\", inplace=True)"
   ]
  },
  {
   "cell_type": "code",
   "execution_count": 5,
   "metadata": {
    "collapsed": false
   },
   "outputs": [
    {
     "data": {
      "text/html": [
       "<div>\n",
       "<table border=\"1\" class=\"dataframe\">\n",
       "  <thead>\n",
       "    <tr style=\"text-align: right;\">\n",
       "      <th></th>\n",
       "      <th>id</th>\n",
       "      <th>product_uid</th>\n",
       "      <th>product_title</th>\n",
       "      <th>search_term</th>\n",
       "      <th>relevance</th>\n",
       "      <th>product_description</th>\n",
       "      <th>product_count</th>\n",
       "      <th>brand_name</th>\n",
       "    </tr>\n",
       "  </thead>\n",
       "  <tbody>\n",
       "    <tr>\n",
       "      <th>0</th>\n",
       "      <td>2</td>\n",
       "      <td>100001</td>\n",
       "      <td>Simpson Strong-Tie 12-Gauge Angle</td>\n",
       "      <td>angle bracket</td>\n",
       "      <td>3.00</td>\n",
       "      <td>Not only do angles make joints stronger, they ...</td>\n",
       "      <td>2</td>\n",
       "      <td>Simpson Strong-Tie</td>\n",
       "    </tr>\n",
       "    <tr>\n",
       "      <th>1</th>\n",
       "      <td>3</td>\n",
       "      <td>100001</td>\n",
       "      <td>Simpson Strong-Tie 12-Gauge Angle</td>\n",
       "      <td>l bracket</td>\n",
       "      <td>2.50</td>\n",
       "      <td>Not only do angles make joints stronger, they ...</td>\n",
       "      <td>2</td>\n",
       "      <td>Simpson Strong-Tie</td>\n",
       "    </tr>\n",
       "    <tr>\n",
       "      <th>2</th>\n",
       "      <td>9</td>\n",
       "      <td>100002</td>\n",
       "      <td>BEHR Premium Textured DeckOver 1-gal. #SC-141 ...</td>\n",
       "      <td>deck over</td>\n",
       "      <td>3.00</td>\n",
       "      <td>BEHR Premium Textured DECKOVER is an innovativ...</td>\n",
       "      <td>1</td>\n",
       "      <td>BEHR Premium Textured DeckOver</td>\n",
       "    </tr>\n",
       "    <tr>\n",
       "      <th>3</th>\n",
       "      <td>16</td>\n",
       "      <td>100005</td>\n",
       "      <td>Delta Vero 1-Handle Shower Only Faucet Trim Ki...</td>\n",
       "      <td>rain shower head</td>\n",
       "      <td>2.33</td>\n",
       "      <td>Update your bathroom with the Delta Vero Singl...</td>\n",
       "      <td>2</td>\n",
       "      <td>Delta</td>\n",
       "    </tr>\n",
       "    <tr>\n",
       "      <th>4</th>\n",
       "      <td>17</td>\n",
       "      <td>100005</td>\n",
       "      <td>Delta Vero 1-Handle Shower Only Faucet Trim Ki...</td>\n",
       "      <td>shower only faucet</td>\n",
       "      <td>2.67</td>\n",
       "      <td>Update your bathroom with the Delta Vero Singl...</td>\n",
       "      <td>2</td>\n",
       "      <td>Delta</td>\n",
       "    </tr>\n",
       "  </tbody>\n",
       "</table>\n",
       "</div>"
      ],
      "text/plain": [
       "   id  product_uid                                      product_title  \\\n",
       "0   2       100001                  Simpson Strong-Tie 12-Gauge Angle   \n",
       "1   3       100001                  Simpson Strong-Tie 12-Gauge Angle   \n",
       "2   9       100002  BEHR Premium Textured DeckOver 1-gal. #SC-141 ...   \n",
       "3  16       100005  Delta Vero 1-Handle Shower Only Faucet Trim Ki...   \n",
       "4  17       100005  Delta Vero 1-Handle Shower Only Faucet Trim Ki...   \n",
       "\n",
       "          search_term  relevance  \\\n",
       "0       angle bracket       3.00   \n",
       "1           l bracket       2.50   \n",
       "2           deck over       3.00   \n",
       "3    rain shower head       2.33   \n",
       "4  shower only faucet       2.67   \n",
       "\n",
       "                                 product_description  product_count  \\\n",
       "0  Not only do angles make joints stronger, they ...              2   \n",
       "1  Not only do angles make joints stronger, they ...              2   \n",
       "2  BEHR Premium Textured DECKOVER is an innovativ...              1   \n",
       "3  Update your bathroom with the Delta Vero Singl...              2   \n",
       "4  Update your bathroom with the Delta Vero Singl...              2   \n",
       "\n",
       "                       brand_name  \n",
       "0              Simpson Strong-Tie  \n",
       "1              Simpson Strong-Tie  \n",
       "2  BEHR Premium Textured DeckOver  \n",
       "3                           Delta  \n",
       "4                           Delta  "
      ]
     },
     "execution_count": 5,
     "metadata": {},
     "output_type": "execute_result"
    }
   ],
   "source": [
    "# This is how training_data looks like after the merging\n",
    "training_data.head()"
   ]
  },
  {
   "cell_type": "code",
   "execution_count": 6,
   "metadata": {
    "collapsed": false
   },
   "outputs": [
    {
     "name": "stdout",
     "output_type": "stream",
     "text": [
      "                     id  product_uid  relevance  product_count   id_bins\n",
      "id             1.000000     1.000000  -0.126681      -0.484873  0.998746\n",
      "product_uid    1.000000     1.000000  -0.126681      -0.484873  0.998746\n",
      "relevance     -0.126681    -0.126681   1.000000      -0.026358 -0.126639\n",
      "product_count -0.484873    -0.484873  -0.026358       1.000000 -0.484009\n",
      "id_bins        0.998746     0.998746  -0.126639      -0.484009  1.000000\n"
     ]
    },
    {
     "data": {
      "text/html": [
       "<div>\n",
       "<table border=\"1\" class=\"dataframe\">\n",
       "  <thead>\n",
       "    <tr style=\"text-align: right;\">\n",
       "      <th></th>\n",
       "      <th>id</th>\n",
       "      <th>product_uid</th>\n",
       "      <th>relevance</th>\n",
       "      <th>product_count</th>\n",
       "      <th>id_bins</th>\n",
       "    </tr>\n",
       "  </thead>\n",
       "  <tbody>\n",
       "    <tr>\n",
       "      <th>count</th>\n",
       "      <td>74067.000000</td>\n",
       "      <td>74067.000000</td>\n",
       "      <td>74067.000000</td>\n",
       "      <td>74067.000000</td>\n",
       "      <td>74067.000000</td>\n",
       "    </tr>\n",
       "    <tr>\n",
       "      <th>mean</th>\n",
       "      <td>112385.709223</td>\n",
       "      <td>142331.911553</td>\n",
       "      <td>2.381634</td>\n",
       "      <td>1.935450</td>\n",
       "      <td>9.648764</td>\n",
       "    </tr>\n",
       "    <tr>\n",
       "      <th>std</th>\n",
       "      <td>64016.573650</td>\n",
       "      <td>30770.774864</td>\n",
       "      <td>0.533984</td>\n",
       "      <td>1.706594</td>\n",
       "      <td>5.773127</td>\n",
       "    </tr>\n",
       "    <tr>\n",
       "      <th>min</th>\n",
       "      <td>2.000000</td>\n",
       "      <td>100001.000000</td>\n",
       "      <td>1.000000</td>\n",
       "      <td>1.000000</td>\n",
       "      <td>0.000000</td>\n",
       "    </tr>\n",
       "    <tr>\n",
       "      <th>25%</th>\n",
       "      <td>57163.500000</td>\n",
       "      <td>115128.500000</td>\n",
       "      <td>2.000000</td>\n",
       "      <td>1.000000</td>\n",
       "      <td>5.000000</td>\n",
       "    </tr>\n",
       "    <tr>\n",
       "      <th>50%</th>\n",
       "      <td>113228.000000</td>\n",
       "      <td>137334.000000</td>\n",
       "      <td>2.330000</td>\n",
       "      <td>1.000000</td>\n",
       "      <td>10.000000</td>\n",
       "    </tr>\n",
       "    <tr>\n",
       "      <th>75%</th>\n",
       "      <td>168275.500000</td>\n",
       "      <td>166883.500000</td>\n",
       "      <td>3.000000</td>\n",
       "      <td>2.000000</td>\n",
       "      <td>15.000000</td>\n",
       "    </tr>\n",
       "    <tr>\n",
       "      <th>max</th>\n",
       "      <td>221473.000000</td>\n",
       "      <td>206650.000000</td>\n",
       "      <td>3.000000</td>\n",
       "      <td>21.000000</td>\n",
       "      <td>19.000000</td>\n",
       "    </tr>\n",
       "  </tbody>\n",
       "</table>\n",
       "</div>"
      ],
      "text/plain": [
       "                  id    product_uid     relevance  product_count       id_bins\n",
       "count   74067.000000   74067.000000  74067.000000   74067.000000  74067.000000\n",
       "mean   112385.709223  142331.911553      2.381634       1.935450      9.648764\n",
       "std     64016.573650   30770.774864      0.533984       1.706594      5.773127\n",
       "min         2.000000  100001.000000      1.000000       1.000000      0.000000\n",
       "25%     57163.500000  115128.500000      2.000000       1.000000      5.000000\n",
       "50%    113228.000000  137334.000000      2.330000       1.000000     10.000000\n",
       "75%    168275.500000  166883.500000      3.000000       2.000000     15.000000\n",
       "max    221473.000000  206650.000000      3.000000      21.000000     19.000000"
      ]
     },
     "execution_count": 6,
     "metadata": {},
     "output_type": "execute_result"
    }
   ],
   "source": [
    "training_data[\"id_bins\"] = pd.cut(training_data.id, 20, labels=False)\n",
    "print(training_data.corr(method=\"spearman\"))\n",
    "training_data.describe()"
   ]
  },
  {
   "cell_type": "code",
   "execution_count": 7,
   "metadata": {
    "collapsed": false
   },
   "outputs": [
    {
     "data": {
      "text/plain": [
       "3.00    19125\n",
       "2.33    16060\n",
       "2.67    15202\n",
       "2.00    11730\n",
       "1.67     6780\n",
       "1.33     3006\n",
       "1.00     2105\n",
       "2.50       19\n",
       "2.25       11\n",
       "2.75       11\n",
       "1.75        9\n",
       "1.50        5\n",
       "1.25        4\n",
       "Name: relevance, dtype: int64"
      ]
     },
     "execution_count": 7,
     "metadata": {},
     "output_type": "execute_result"
    },
    {
     "data": {
      "image/png": "[encoded data removed]",
      "text/plain": [
       "<matplotlib.figure.Figure at 0x38ad710>"
      ]
     },
     "metadata": {},
     "output_type": "display_data"
    }
   ],
   "source": [
    "training_data.relevance.hist()\n",
    "training_data.relevance.value_counts()"
   ]
  },
  {
   "cell_type": "code",
   "execution_count": 8,
   "metadata": {
    "collapsed": false
   },
   "outputs": [
    {
     "data": {
      "text/plain": [
       "<matplotlib.axes._subplots.AxesSubplot at 0x223a61d0>"
      ]
     },
     "execution_count": 8,
     "metadata": {},
     "output_type": "execute_result"
    },
    {
     "data": {
      "image/png": "[encoded data removed]",
      "text/plain": [
       "<matplotlib.figure.Figure at 0x22af4b00>"
      ]
     },
     "metadata": {},
     "output_type": "display_data"
    }
   ],
   "source": [
    "(training_data.search_term.str.len() / 5.).hist(bins=30)\n",
    "(training_data.search_term.str.count(\"\\\\s+\") + 1).hist(bins=30)"
   ]
  },
  {
   "cell_type": "code",
   "execution_count": 9,
   "metadata": {
    "collapsed": false
   },
   "outputs": [
    {
     "data": {
      "text/plain": [
       "101892    52\n",
       "101280    35\n",
       "101442    35\n",
       "101148    34\n",
       "102456    31\n",
       "100898    31\n",
       "102162    30\n",
       "104691    27\n",
       "109594    27\n",
       "101959    26\n",
       "102235    26\n",
       "102954    26\n",
       "101312    26\n",
       "101024    25\n",
       "105369    25\n",
       "102567    25\n",
       "100941    24\n",
       "104899    24\n",
       "100065    24\n",
       "100526    24\n",
       "103763    24\n",
       "101027    23\n",
       "112119    22\n",
       "118371    22\n",
       "102304    22\n",
       "117268    22\n",
       "102891    22\n",
       "100409    22\n",
       "100885    22\n",
       "101272    22\n",
       "          ..\n",
       "192787     1\n",
       "182548     1\n",
       "180501     1\n",
       "186646     1\n",
       "174360     1\n",
       "178458     1\n",
       "170270     1\n",
       "168223     1\n",
       "223520     1\n",
       "221473     1\n",
       "143627     1\n",
       "141576     1\n",
       "215204     1\n",
       "147717     1\n",
       "213157     1\n",
       "219302     1\n",
       "217255     1\n",
       "207016     1\n",
       "204969     1\n",
       "211114     1\n",
       "209067     1\n",
       "196781     1\n",
       "125168     1\n",
       "116980     1\n",
       "114933     1\n",
       "119031     1\n",
       "112890     1\n",
       "110843     1\n",
       "162050     1\n",
       "110474     1\n",
       "Name: product_uid, dtype: int64"
      ]
     },
     "execution_count": 9,
     "metadata": {},
     "output_type": "execute_result"
    }
   ],
   "source": [
    "# Value Counts for Product UID (testing_data)\n",
    "testing_data.product_uid.value_counts()"
   ]
  },
  {
   "cell_type": "code",
   "execution_count": null,
   "metadata": {
    "collapsed": true
   },
   "outputs": [],
   "source": []
  }
 ],
 "metadata": {
  "kernelspec": {
   "display_name": "Python 2",
   "language": "python",
   "name": "python2"
  },
  "language_info": {
   "codemirror_mode": {
    "name": "ipython",
    "version": 2
   },
   "file_extension": ".py",
   "mimetype": "text/x-python",
   "name": "python",
   "nbconvert_exporter": "python",
   "pygments_lexer": "ipython2",
   "version": "2.7.11"
  }
 },
 "nbformat": 4,
 "nbformat_minor": 0
}
